{
 "cells": [
  {
   "cell_type": "code",
   "execution_count": 1,
   "metadata": {},
   "outputs": [
    {
     "data": {
      "text/plain": [
       "\"\\nimport os\\nos.environ['OPENAI_API_KEY'] = 'your-api-key'\\n\""
      ]
     },
     "execution_count": 1,
     "metadata": {},
     "output_type": "execute_result"
    }
   ],
   "source": [
    "from dotenv import load_dotenv\n",
    "load_dotenv(verbose=True)\n",
    "\"\"\"\n",
    "import os\n",
    "os.environ['OPENAI_API_KEY'] = 'your-api-key'\n",
    "\"\"\""
   ]
  },
  {
   "cell_type": "code",
   "execution_count": 2,
   "metadata": {},
   "outputs": [],
   "source": [
    "import operator\n",
    "from typing import TypedDict, Annotated, Sequence\n",
    "\n",
    "from langchain_openai import ChatOpenAI\n",
    "from langchain_core.prompts import ChatPromptTemplate\n",
    "from langchain_core.messages import BaseMessage,HumanMessage,AIMessage\n",
    "from langchain_core.pydantic_v1 import BaseModel, Field\n",
    "from langchain_core.output_parsers import StrOutputParser\n",
    "from langchain_community.document_loaders import WikipediaLoader\n",
    "\n",
    "from langgraph.graph import StateGraph, END"
   ]
  },
  {
   "cell_type": "code",
   "execution_count": 3,
   "metadata": {},
   "outputs": [],
   "source": [
    "# モデルのロード\n",
    "model = ChatOpenAI(model_name='gpt-4-turbo')\n",
    "# model = ChatOpenAI(model_name='gpt-3.5-turbo')"
   ]
  },
  {
   "cell_type": "code",
   "execution_count": 4,
   "metadata": {},
   "outputs": [],
   "source": [
    "class AgentState(TypedDict):\n",
    "    user_question : str #ユーザーの質問\n",
    "    messages: Annotated[Sequence[BaseMessage], operator.add] #会話履歴\n",
    "    knowledge_base : Annotated[str, operator.add] #知識ベース(検索した情報を追記していく)\n",
    "    next_task_search_keyword : str #次に検索するキーワード\n",
    "    next_task_search_content : str #次に検索して調べる内容\n",
    "    answer_counter : Annotated[int, operator.add] #最終回答を試みた回数"
   ]
  },
  {
   "cell_type": "code",
   "execution_count": 5,
   "metadata": {},
   "outputs": [],
   "source": [
    "def call_init_agentstate(state):\n",
    "    state[\"user_question\"] = state['messages'][-1].content\n",
    "    state[\"messages\"] = []\n",
    "    state[\"knowledge_base\"] = \"\"\n",
    "    state[\"answer_counter\"] = 0\n",
    "    return state"
   ]
  },
  {
   "cell_type": "code",
   "execution_count": 6,
   "metadata": {},
   "outputs": [],
   "source": [
    "from langchain.output_parsers import PydanticOutputParser\n",
    "from langchain_core.prompts import PromptTemplate\n",
    "from langchain_core.pydantic_v1 import BaseModel, Field, validator\n",
    "\n",
    "class SearchTask(BaseModel):\n",
    "    search_reason: str = Field(description=\"検索する理由や目的。\")\n",
    "    search_keyword: str = Field(description=\"Wikipediaでの検索する単語。必ずひとつの単語である必要がある。\")\n",
    "    search_content : str = Field(description=\"検索したWikipediaのページで取得したい情報。\")\n",
    "\n",
    "gen_task_template =\"\"\"\n",
    "以下の質問に回答するため、不足している情報をwikipediaから検索します。\n",
    "検索する情報は最小の一つだけです。検索するための単語を記載してください。\n",
    "検索する項目やその理由を記載してください。\n",
    "検索する項目は一つだけです。\n",
    "複数の質問がなされていても、一つの質問に対してのみ回答を生成してください。\n",
    "\n",
    "{format_instructions}\n",
    "\n",
    "-----------------\n",
    "質問例:映画オッペンハイマーの監督が作成した映画の本数を調べてください。\n",
    "search_reason=\"情報が不足しているため。とりあえずまず\"映画オッペンハイマー\"のwikipediaを検索して、監督の名前を調べる必要があります。\"\n",
    "search_keyword=\"オッペンハイマー\"\n",
    "search_content=\"映画オッペンハイマーの監督の名前\"\n",
    "-----------------\n",
    "質問例:中性子と原子核が発見された年に起こった出来事を調べてください。\n",
    "search_reason=\"情報が不足しているため、とりあえずまず\"中性子\"のwikipediaを検索して、とりあえず発見された年を調べる必要があります。\"\n",
    "search_keyword=\"中性子\"\n",
    "search_content=\"中性子の発見された年\"\n",
    "-----------------\n",
    "質問例:中性子と原子核が発見された年に起こった出来事を調べてください。ただし、以下の情報はすでに検索済みです。中性子の発見された年は1932年です。\n",
    "search_reason=\"原子核に関する情報が不足しているため、\"原子核\"のwikipediaを検索して、発見された年を調べる必要があります。\"\n",
    "search_keyword=\"原子核\"\n",
    "search_content=\"原子核の発見された年\"\n",
    "-----------------\n",
    "\n",
    "質問:{user_question}。{knowledge_base}\n",
    "\"\"\"\n",
    "def call_generate_task(state):\n",
    "    _parser = PydanticOutputParser(pydantic_object=SearchTask)\n",
    "    _prompt = PromptTemplate(\n",
    "        template=gen_task_template,\n",
    "        input_variables=[\"user_question\", \"knowledge_base\"],\n",
    "        partial_variables={\"format_instructions\": _parser.get_format_instructions()},\n",
    "    )\n",
    "    chain = _prompt| model | _parser\n",
    "    # chain = chain.with_retry(stop_after_attempt=5)\n",
    "    res = chain.invoke({'user_question': state['user_question'], 'knowledge_base': state['knowledge_base']})\n",
    "\n",
    "    return {\n",
    "        \"messages\": [AIMessage(content=res.search_reason)],\n",
    "        'next_task_search_keyword':res.search_keyword,\n",
    "        'next_task_search_content':res.search_content\n",
    "    }"
   ]
  },
  {
   "cell_type": "code",
   "execution_count": 7,
   "metadata": {},
   "outputs": [],
   "source": [
    "def search_for_wikipedia(query: str) -> str:\n",
    "    \"\"\"\n",
    "    Search for a wikipedia article and return the content of the first article found.\n",
    "    \"\"\"\n",
    "    docs = WikipediaLoader(query=query, load_max_docs=5, lang='ja').load()\n",
    "    if len(docs) > 0:\n",
    "        return ''.join([d.page_content for d in docs])\n",
    "    return \"\"\n",
    "\n",
    "\n",
    "search_and_answer_template =\"\"\"\n",
    "以下の参考文書を使用して、知りたい内容に回答してください。\n",
    "知りたい内容には簡潔に数10文字のテキストで答えてください。\n",
    "たとえば、「XXXはYYYです。」と短文で回答すること。\n",
    "\n",
    "不要な情報は削除すること。\n",
    "\n",
    "参考文書:{searched_content}\n",
    "\n",
    "知りたい内容:{next_task_search_content}\n",
    "\"\"\"\n",
    "\n",
    "def call_search_and_answer(state):\n",
    "    searched_content = search_for_wikipedia(state['next_task_search_keyword'])\n",
    "\n",
    "    _parser = PydanticOutputParser(pydantic_object=SearchTask)\n",
    "    _prompt = PromptTemplate(\n",
    "        template=search_and_answer_template,\n",
    "        input_variables=[\"next_task_search_content\", \"searched_content\"],\n",
    "    )\n",
    "    chain = _prompt| model | StrOutputParser()\n",
    "\n",
    "    res = chain.invoke({'next_task_search_content': state['next_task_search_content'], 'searched_content': searched_content})\n",
    "    new_knowledge = f\"「{state['next_task_search_content']}」に関する情報は以下の通り。\\n{res}\\n\\n\\n\"\n",
    "    return {\n",
    "        \"messages\": [AIMessage(content=new_knowledge)],\n",
    "        'knowledge_base':new_knowledge,\n",
    "    }"
   ]
  },
  {
   "cell_type": "code",
   "execution_count": 12,
   "metadata": {},
   "outputs": [],
   "source": [
    "def router_fa(state):\n",
    "    res = call_final_answer(state)\n",
    "    print(state)\n",
    "    if state['answer_counter'] >= 5:\n",
    "        print('回答制限')\n",
    "        return 'end'\n",
    "    if '回答不可' in res['messages'][-1].content:\n",
    "        return 'continue'\n",
    "    else:\n",
    "        return 'end'"
   ]
  },
  {
   "cell_type": "code",
   "execution_count": 13,
   "metadata": {},
   "outputs": [],
   "source": [
    "final_answer =\"\"\"\n",
    "以下の知識をもとに質問に回答してください。\n",
    "もし回答に必要な情報が不足している場合は、回答できな理由を述べた後、「回答不可」と回答してください。\n",
    "\n",
    "\n",
    "知識:{knowledge_base}\n",
    "\n",
    "質問:{user_question}\n",
    "\"\"\"\n",
    "def call_final_answer(state):\n",
    "    prompt = ChatPromptTemplate.from_template(template=final_answer)\n",
    "    chain = prompt| model | StrOutputParser()\n",
    "    res = chain.invoke({\n",
    "        'user_question': state['user_question'],\n",
    "        'knowledge_base': state['knowledge_base']\n",
    "    })\n",
    "    print(state)\n",
    "    return {\"messages\": [AIMessage(content=res)], \"answer_counter\":1}"
   ]
  },
  {
   "cell_type": "code",
   "execution_count": 14,
   "metadata": {},
   "outputs": [],
   "source": [
    "workflow = StateGraph(AgentState)\n",
    "workflow.add_node(\"init_agent\",call_init_agentstate)\n",
    "workflow.add_node(\"generate_task\", call_generate_task)\n",
    "workflow.add_node(\"search_and_answer\", call_search_and_answer)\n",
    "workflow.add_node(\"final_answer\", call_final_answer)\n",
    "\n",
    "workflow.set_entry_point(\"init_agent\")\n",
    "workflow.add_edge(\"init_agent\", \"generate_task\")\n",
    "workflow.add_edge(\"generate_task\", \"search_and_answer\")\n",
    "workflow.add_edge(\"search_and_answer\", \"final_answer\")\n",
    "workflow.add_conditional_edges(\n",
    "    \"final_answer\",\n",
    "    router_fa,\n",
    "    {\n",
    "        \"end\": END,\n",
    "        \"continue\": \"generate_task\"\n",
    "    }\n",
    ")\n",
    "app = workflow.compile()"
   ]
  },
  {
   "cell_type": "code",
   "execution_count": 15,
   "metadata": {},
   "outputs": [
    {
     "name": "stdout",
     "output_type": "stream",
     "text": [
      "Output from node 'init_agent':\n",
      "{'user_question': 'ジョジョの奇妙な物語の作者の出身小学校の設立年は', 'messages': [], 'knowledge_base': '', 'next_task_search_keyword': None, 'next_task_search_content': None, 'answer_counter': 0}\n",
      "\n",
      "---\n",
      "\n",
      "Output from node 'generate_task':\n",
      "{'messages': [AIMessage(content='情報が不足しているため、まずは「ジョジョの奇妙な物語」の作者の名前を調べる必要があります。')], 'next_task_search_keyword': 'ジョジョの奇妙な物語', 'next_task_search_content': 'ジョジョの奇妙な物語の作者の名前'}\n",
      "\n",
      "---\n",
      "\n",
      "Output from node 'search_and_answer':\n",
      "{'messages': [AIMessage(content='「ジョジョの奇妙な物語の作者の名前」に関する情報は以下の通り。\\nジョジョの奇妙な冒険の作者は荒木飛呂彦です。\\n\\n\\n')], 'knowledge_base': '「ジョジョの奇妙な物語の作者の名前」に関する情報は以下の通り。\\nジョジョの奇妙な冒険の作者は荒木飛呂彦です。\\n\\n\\n'}\n",
      "\n",
      "---\n",
      "\n",
      "{'user_question': 'ジョジョの奇妙な物語の作者の出身小学校の設立年は', 'messages': [HumanMessage(content='ジョジョの奇妙な物語の作者の出身小学校の設立年は'), AIMessage(content='情報が不足しているため、まずは「ジョジョの奇妙な物語」の作者の名前を調べる必要があります。'), AIMessage(content='「ジョジョの奇妙な物語の作者の名前」に関する情報は以下の通り。\\nジョジョの奇妙な冒険の作者は荒木飛呂彦です。\\n\\n\\n')], 'knowledge_base': '「ジョジョの奇妙な物語の作者の名前」に関する情報は以下の通り。\\nジョジョの奇妙な冒険の作者は荒木飛呂彦です。\\n\\n\\n', 'next_task_search_keyword': 'ジョジョの奇妙な物語', 'next_task_search_content': 'ジョジョの奇妙な物語の作者の名前', 'answer_counter': 0}\n",
      "{'user_question': 'ジョジョの奇妙な物語の作者の出身小学校の設立年は', 'messages': [HumanMessage(content='ジョジョの奇妙な物語の作者の出身小学校の設立年は'), AIMessage(content='情報が不足しているため、まずは「ジョジョの奇妙な物語」の作者の名前を調べる必要があります。'), AIMessage(content='「ジョジョの奇妙な物語の作者の名前」に関する情報は以下の通り。\\nジョジョの奇妙な冒険の作者は荒木飛呂彦です。\\n\\n\\n'), AIMessage(content='回答に必要な情報が不足しているため、ジョジョの奇妙な物語の作者の出身小学校の設立年を提供することはできません。そのため、「回答不可」と回答します。')], 'knowledge_base': '「ジョジョの奇妙な物語の作者の名前」に関する情報は以下の通り。\\nジョジョの奇妙な冒険の作者は荒木飛呂彦です。\\n\\n\\n', 'next_task_search_keyword': 'ジョジョの奇妙な物語', 'next_task_search_content': 'ジョジョの奇妙な物語の作者の名前', 'answer_counter': 1}\n",
      "{'user_question': 'ジョジョの奇妙な物語の作者の出身小学校の設立年は', 'messages': [HumanMessage(content='ジョジョの奇妙な物語の作者の出身小学校の設立年は'), AIMessage(content='情報が不足しているため、まずは「ジョジョの奇妙な物語」の作者の名前を調べる必要があります。'), AIMessage(content='「ジョジョの奇妙な物語の作者の名前」に関する情報は以下の通り。\\nジョジョの奇妙な冒険の作者は荒木飛呂彦です。\\n\\n\\n'), AIMessage(content='回答に必要な情報が不足しているため、ジョジョの奇妙な物語の作者の出身小学校の設立年を提供することはできません。そのため、「回答不可」と回答します。')], 'knowledge_base': '「ジョジョの奇妙な物語の作者の名前」に関する情報は以下の通り。\\nジョジョの奇妙な冒険の作者は荒木飛呂彦です。\\n\\n\\n', 'next_task_search_keyword': 'ジョジョの奇妙な物語', 'next_task_search_content': 'ジョジョの奇妙な物語の作者の名前', 'answer_counter': 1}\n",
      "Output from node 'final_answer':\n",
      "{'messages': [AIMessage(content='回答に必要な情報が不足しているため、ジョジョの奇妙な物語の作者の出身小学校の設立年を提供することはできません。そのため、「回答不可」と回答します。')], 'answer_counter': 1}\n",
      "\n",
      "---\n",
      "\n",
      "Output from node 'generate_task':\n",
      "{'messages': [AIMessage(content='荒木飛呂彦の出身小学校に関する情報が不足しているため、まずは荒木飛呂彦のWikipediaページを検索して、出身小学校を特定する必要があります。')], 'next_task_search_keyword': '荒木飛呂彦', 'next_task_search_content': '荒木飛呂彦の出身小学校の名前'}\n",
      "\n",
      "---\n",
      "\n"
     ]
    }
   ],
   "source": [
    "inputs = {\"messages\": [HumanMessage(content=\"ジョジョの奇妙な物語の作者の出身小学校の設立年は\")]}\n",
    "for output in app.stream(inputs):\n",
    "    for key, value in output.items():\n",
    "        print(f\"Output from node '{key}':\")\n",
    "        print(value)\n",
    "    print(\"\\n---\\n\")"
   ]
  },
  {
   "cell_type": "code",
   "execution_count": null,
   "metadata": {},
   "outputs": [],
   "source": []
  },
  {
   "cell_type": "code",
   "execution_count": null,
   "metadata": {},
   "outputs": [],
   "source": []
  }
 ],
 "metadata": {
  "kernelspec": {
   "display_name": ".venv",
   "language": "python",
   "name": "python3"
  },
  "language_info": {
   "codemirror_mode": {
    "name": "ipython",
    "version": 3
   },
   "file_extension": ".py",
   "mimetype": "text/x-python",
   "name": "python",
   "nbconvert_exporter": "python",
   "pygments_lexer": "ipython3",
   "version": "3.12.1"
  }
 },
 "nbformat": 4,
 "nbformat_minor": 2
}
